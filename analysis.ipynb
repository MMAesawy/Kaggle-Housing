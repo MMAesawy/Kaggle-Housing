{
 "cells": [
  {
   "cell_type": "code",
   "execution_count": 2,
   "metadata": {
    "collapsed": true
   },
   "outputs": [],
   "source": [
    "import pandas as pd\n",
    "from sklearn.preprocessing import *\n",
    "from sklearn_pandas import DataFrameMapper\n",
    "import numpy as np\n",
    "import matplotlib.pyplot as plt\n",
    "import re\n",
    "df_train = pd.read_csv('/home/mmaesawy/Desktop/Work/Kaggle-Housing/train.csv')\n",
    "df_test = pd.read_csv('/home/mmaesawy/Desktop/Work/Kaggle-Housing/test.csv')\n",
    "df_full = pd.concat([df_train, df_test], axis = 0)"
   ]
  },
  {
   "cell_type": "markdown",
   "metadata": {},
   "source": []
  },
  {
   "cell_type": "code",
   "execution_count": 4,
   "metadata": {
    "collapsed": false
   },
   "outputs": [
    {
     "name": "stdout",
     "output_type": "stream",
     "text": [
      "Missing values per column:\n3:\tAlley - Missing: 2721 - # Unique values: 2\n6:\tBsmtCond - Missing: 82 - # Unique values: 4\n7:\tBsmtExposure - Missing: 82 - # Unique values: 4\n8:\tBsmtFinSF1 - Missing: 1 - # Unique values: 991\n9:\tBsmtFinSF2 - Missing: 1 - # Unique values: 272\n10:\tBsmtFinType1 - Missing: 79 - # Unique values: 6\n11:\tBsmtFinType2 - Missing: 80 - # Unique values: 6\n12:\tBsmtFullBath - Missing: 2 - # Unique values: 4\n13:\tBsmtHalfBath - Missing: 2 - # Unique values: 3\n14:\tBsmtQual - Missing: 81 - # Unique values: 4\n15:\tBsmtUnfSF - Missing: 1 - # Unique values: 1135\n19:\tElectrical - Missing: 1 - # Unique values: 5\n23:\tExterior1st - Missing: 1 - # Unique values: 15\n24:\tExterior2nd - Missing: 1 - # Unique values: 16\n25:\tFence - Missing: 2348 - # Unique values: 4\n26:\tFireplaceQu - Missing: 1420 - # Unique values: 5\n30:\tFunctional - Missing: 2 - # Unique values: 7\n31:\tGarageArea - Missing: 1 - # Unique values: 603\n32:\tGarageCars - Missing: 1 - # Unique values: 6\n33:\tGarageCond - Missing: 159 - # Unique values: 5\n34:\tGarageFinish - Missing: 159 - # Unique values: 3\n35:\tGarageQual - Missing: 159 - # Unique values: 5\n36:\tGarageType - Missing: 157 - # Unique values: 6\n37:\tGarageYrBlt - Missing: 159 - # Unique values: 103\n45:\tKitchenQual - Missing: 1 - # Unique values: 4\n50:\tLotFrontage - Missing: 486 - # Unique values: 128\n54:\tMSZoning - Missing: 4 - # Unique values: 5\n55:\tMasVnrArea - Missing: 23 - # Unique values: 444\n56:\tMasVnrType - Missing: 24 - # Unique values: 4\n57:\tMiscFeature - Missing: 2814 - # Unique values: 4\n66:\tPoolQC - Missing: 2909 - # Unique values: 3\n70:\tSalePrice - Missing: 1459 - # Unique values: 663\n71:\tSaleType - Missing: 1 - # Unique values: 9\n75:\tTotalBsmtSF - Missing: 1 - # Unique values: 1058\n"
     ]
    },
    {
     "name": "stdout",
     "output_type": "stream",
     "text": [
      "76:\tUtilities - Missing: 2 - # Unique values: 2\n"
     ]
    }
   ],
   "source": [
    "print('Missing values per column:')\n",
    "for c in range(df_full.shape[1]):\n",
    "    missing_count = df_full.iloc[:, c].shape[0] - df_full.iloc[:, c].count()  \n",
    "    if missing_count > 0:\n",
    "        print(f'{c}:\\t{df_full.columns[c]}'\n",
    "              f' - Missing: {missing_count}'\n",
    "              f' - # Unique values: {len(pd.value_counts(df_full.iloc[:, c]))}')\n"
   ]
  },
  {
   "cell_type": "markdown",
   "metadata": {},
   "source": [
    "There exists a lot of missing values. However, reading the data description, it's clear that the data is very clean and that the missing values are real values not incomplete data. We replace all np.nan values with a placeholder below, as to not confuse scikit-learn's algorithms. Also, we replace the np.nan values for contineous features with a value of zero, which is more appropriate for these features."
   ]
  },
  {
   "cell_type": "code",
   "execution_count": null,
   "metadata": {},
   "outputs": [],
   "source": [
    "p = re.compile(r'$((SF[0-9]*)|(Area)|(Frontage))')\n",
    "for c in range(df_full.shape[1]):\n",
    "    if p.search(df_full.columns[c]):\n",
    "        df_full.iloc[:, c].fillna(0, inplace = True)\n",
    "\n",
    "missing_label = 'None'\n",
    "df_full[[x for x in df_full.columns if not x == 'SalePrice']].fillna(missing_label,\n",
    "                                                                     inplace = True)"
   ]
  },
  {
   "cell_type": "markdown",
   "metadata": {},
   "source": [
    "We then examine the relation between each continuous feature and the target variable in order to get a better feel for the data. We define a contin"
   ]
  },
  {
   "cell_type": "code",
   "execution_count": null,
   "metadata": {},
   "outputs": [
    {
     "name": "stderr",
     "output_type": "stream",
     "text": [
      "/home/mmaesawy/anaconda3/lib/python3.6/site-packages/matplotlib/figure.py:403: UserWarning: matplotlib is currently using a non-GUI backend, so cannot show the figure\n  \"matplotlib is currently using a non-GUI backend, \"\n"
     ]
    },
    {
     "name": "stderr",
     "output_type": "stream",
     "text": [
      "/home/mmaesawy/anaconda3/lib/python3.6/site-packages/matplotlib/pyplot.py:524: RuntimeWarning: More than 20 figures have been opened. Figures created through the pyplot interface (`matplotlib.pyplot.figure`) are retained until explicitly closed and may consume too much memory. (To control this warning, see the rcParam `figure.max_open_warning`).\n  max_open_warning, RuntimeWarning)\n"
     ]
    }
   ],
   "source": [
    "cont_feature = []\n",
    "for c in range(df_full.shape[1]):\n",
    "    if len(pd.value_counts(df_full.iloc[:, c])) > 100:\n",
    "        cont_feature.append(df_full.columns[c])\n",
    "        \n",
    "plt.ion()\n",
    "i = 0\n",
    "while i < len(cont_feature):\n",
    "    fig, axs = plt.subplots(nrows = 4,\n",
    "                       ncols= 4,\n",
    "                       sharex = 'col',\n",
    "                       sharey = 'row')\n",
    "    axs = axs.flatten()\n",
    "    for ax in axs:\n",
    "        if i < len(cont_feature): break\n",
    "        if cont_feature[i] != 'SalePrice':\n",
    "            ax.scatter(x = df_full[cont_feature[i]], y = df_full['SalePrice'])\n",
    "        else:\n",
    "            ax.hist(df_train[cont_feature[i]]) # Used df_train to avoid errors due to NaNs\n",
    "        ax.set_xlabel(cont_feature[i])\n",
    "        ax.set_ylabel('SalePrice')\n",
    "        i += 1\n",
    "    fig.show()"
   ]
  },
  {
   "cell_type": "code",
   "execution_count": null,
   "metadata": {},
   "outputs": [],
   "source": []
  }
 ],
 "metadata": {
  "kernelspec": {
   "display_name": "Python 2",
   "language": "python",
   "name": "python2"
  },
  "language_info": {
   "codemirror_mode": {
    "name": "ipython",
    "version": 2
   },
   "file_extension": ".py",
   "mimetype": "text/x-python",
   "name": "python",
   "nbconvert_exporter": "python",
   "pygments_lexer": "ipython2",
   "version": "2.7.6"
  }
 },
 "nbformat": 4,
 "nbformat_minor": 0
}
